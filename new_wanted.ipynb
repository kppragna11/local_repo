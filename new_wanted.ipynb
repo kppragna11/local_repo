{
 "cells": [
  {
   "cell_type": "code",
   "execution_count": 4,
   "metadata": {},
   "outputs": [],
   "source": [
    "import numpy as np\n",
    "import pandas as pd\n",
    "from sklearn.model_selection import train_test_split\n",
    "from sklearn.preprocessing import LabelEncoder\n",
    "from sklearn.linear_model import ElasticNet, LinearRegression, Ridge\n",
    "from sklearn.metrics import mean_squared_error, r2_score,mean_absolute_error\n",
    "import xgboost as xgb\n",
    "import lightgbm as lgb\n",
    "from sklearn.impute import SimpleImputer\n",
    "from sklearn.ensemble import RandomForestRegressor, GradientBoostingRegressor\n",
    "from sklearn.neighbors import KNeighborsRegressor\n",
    "from sklearn.tree import DecisionTreeRegressor\n",
    "from sklearn.pipeline import make_pipeline\n",
    "from sklearn.preprocessing import StandardScaler\n",
    "\n",
    "# Load data\n",
    "file_path = r\"E:\\Pragna\\Engineering\\machine learning\\SVM\\1GA21EC096\\silkboard.csv\"\n",
    "df = pd.read_csv(file_path, low_memory=False)\n",
    "\n",
    "# Handle non-numeric values\n",
    "# Consider handling categorical variables appropriately\n",
    "df = df.apply(pd.to_numeric, errors='coerce')\n",
    "\n",
    "# Impute missing values with the most frequent value\n",
    "imputer = SimpleImputer(strategy='most_frequent')\n",
    "df_imputed = pd.DataFrame(imputer.fit_transform(df), columns=df.columns)"
   ]
  },
  {
   "cell_type": "code",
   "execution_count": 5,
   "metadata": {},
   "outputs": [],
   "source": [
    "# Impute missing values with the most frequent value\n",
    "imputer = SimpleImputer(strategy='most_frequent')\n",
    "df_imputed = pd.DataFrame(imputer.fit_transform(df), columns=df.columns)\n",
    "\n",
    "# Select features and target variable\n",
    "X = df_imputed.drop(\"PM2.5\", axis=1)\n",
    "y = df_imputed[\"PM2.5\"]\n",
    "\n",
    "# Scale the features\n",
    "scaler = StandardScaler()\n",
    "X_scaled = scaler.fit_transform(X)\n",
    "X_train, X_test, y_train, y_test = train_test_split(X_scaled, y, test_size=0.2, random_state=42)"
   ]
  },
  {
   "cell_type": "markdown",
   "metadata": {},
   "source": [
    "LINEAR REGRESSION"
   ]
  },
  {
   "cell_type": "code",
   "execution_count": 6,
   "metadata": {},
   "outputs": [
    {
     "name": "stdout",
     "output_type": "stream",
     "text": [
      "mse  74.77901729959622\n",
      "rmse  8.647486183833786\n",
      "lr mae: 4.460739167114458\n",
      "0.7237031688958417\n"
     ]
    }
   ],
   "source": [
    "linear_reg = LinearRegression()\n",
    "linear_reg.fit(X_train, y_train)\n",
    "y_pred_lr = linear_reg.predict(X_test)\n",
    "mse_lr = mean_squared_error(y_test, y_pred_lr)\n",
    "rmse_lr= np.sqrt(mean_squared_error(y_test, y_pred_lr))\n",
    "r2_lr = r2_score(y_test, y_pred_lr)\n",
    "print(\"mse \",mse_lr)\n",
    "print(\"rmse \",rmse_lr)\n",
    "print(\"lr mae:\",mean_absolute_error(y_test,y_pred_lr))\n",
    "print(r2_lr)"
   ]
  },
  {
   "cell_type": "code",
   "execution_count": 19,
   "metadata": {},
   "outputs": [
    {
     "name": "stdout",
     "output_type": "stream",
     "text": [
      "mse  64.86070316222305\n",
      "rmse  8.053614291870641\n",
      "r2  0.760349796051593\n",
      "dt mae 3.11534331099947\n"
     ]
    }
   ],
   "source": [
    "#Decision tree\n",
    "dt = DecisionTreeRegressor(criterion='friedman_mse',max_depth=11)\n",
    "dt.fit(X_train, y_train)\n",
    "y_pred_dt = dt.predict(X_test)\n",
    "mse_dt = mean_squared_error(y_test, y_pred_dt)\n",
    "rmse_dt= np.sqrt(mean_squared_error(y_test, y_pred_dt))\n",
    "r2_dt = r2_score(y_test, y_pred_dt)\n",
    "print(\"mse \",mse_dt)\n",
    "print(\"rmse \",rmse_dt)\n",
    "print(\"r2 \",r2_dt)\n",
    "print(\"dt mae\",mean_absolute_error(y_test,y_pred_dt))"
   ]
  },
  {
   "cell_type": "code",
   "execution_count": 20,
   "metadata": {},
   "outputs": [
    {
     "name": "stdout",
     "output_type": "stream",
     "text": [
      "mse  38.55764826634393\n",
      "rmse  6.209480515014435\n",
      "r2  0.8575354903617181\n",
      "knn mae 2.4720313395757696\n"
     ]
    }
   ],
   "source": [
    "#KNN\n",
    "knn=KNeighborsRegressor(n_neighbors=3)\n",
    "knn.fit(X_train, y_train)\n",
    "y_pred_knn = knn.predict(X_test)\n",
    "mse_knn = mean_squared_error(y_test, y_pred_knn)\n",
    "rmse_knn= np.sqrt(mean_squared_error(y_test, y_pred_knn))\n",
    "r2_knn = r2_score(y_test, y_pred_knn)\n",
    "print(\"mse \",mse_knn)\n",
    "print(\"rmse \",rmse_knn)\n",
    "print(\"r2 \",r2_knn)\n",
    "print(\"knn mae\",mean_absolute_error(y_test,y_pred_knn))"
   ]
  },
  {
   "cell_type": "code",
   "execution_count": 22,
   "metadata": {},
   "outputs": [
    {
     "name": "stdout",
     "output_type": "stream",
     "text": [
      "poly mse: 51.38586570414173\n",
      "poly r2: 0.8101372233775681\n",
      "poly rmse: 7.16839352324785\n",
      "poly mae: 3.4128942544050034\n"
     ]
    }
   ],
   "source": [
    "#polynomial regression\n",
    "from sklearn.preprocessing import PolynomialFeatures\n",
    "\n",
    "poly = PolynomialFeatures(degree=2, include_bias=True)\n",
    "X_train_poly = poly.fit_transform(X_train)\n",
    "X_test_poly = poly.transform(X_test)\n",
    "\n",
    "# Fit a linear regression model on the polynomial features\n",
    "model = LinearRegression()\n",
    "model.fit(X_train_poly, y_train)\n",
    "\n",
    "# Predict on the test set\n",
    "y_pred_poly = model.predict(X_test_poly)\n",
    "\n",
    "# Evaluate the model\n",
    "print(\"poly mse:\", mean_squared_error(y_test, y_pred_poly))\n",
    "print(\"poly r2:\", r2_score(y_test, y_pred_poly))\n",
    "print(\"poly rmse:\",np.sqrt(mean_squared_error(y_test,y_pred_poly)))\n",
    "print(\"poly mae:\",mean_absolute_error(y_test,y_pred_poly))\n"
   ]
  },
  {
   "cell_type": "code",
   "execution_count": 23,
   "metadata": {},
   "outputs": [
    {
     "name": "stdout",
     "output_type": "stream",
     "text": [
      "mse  67.37592544374517\n",
      "rmse  8.208283952431541\n",
      "r2  0.7510564411640464\n",
      "knn svr 3.0720029291028226\n"
     ]
    }
   ],
   "source": [
    "#SVR\n",
    "from sklearn.svm import SVR\n",
    "svr = SVR(kernel='rbf', C=1.0)\n",
    "svr.fit(X_train, y_train)\n",
    "y_pred_svr = svr.predict(X_test)\n",
    "mse_svr = mean_squared_error(y_test, y_pred_svr)\n",
    "rmse_svr= np.sqrt(mean_squared_error(y_test, y_pred_svr))\n",
    "r2_svr = r2_score(y_test, y_pred_svr)\n",
    "print(\"mse \",mse_svr)\n",
    "print(\"rmse \",rmse_svr)\n",
    "print(\"r2 \",r2_svr)\n",
    "print(\"knn svr\",mean_absolute_error(y_test,y_pred_svr))"
   ]
  },
  {
   "cell_type": "code",
   "execution_count": 24,
   "metadata": {},
   "outputs": [
    {
     "name": "stdout",
     "output_type": "stream",
     "text": [
      "gbr mse 29.131736988738965\n",
      "gbr r2 0.8923627655830155\n",
      "gbr rmse: 5.397382420093926\n",
      "gbr mae: 2.1830229710474787\n"
     ]
    }
   ],
   "source": [
    "gbr= GradientBoostingRegressor(n_estimators=150,\n",
    "    learning_rate=0.1,\n",
    "    max_depth=10,subsample=0.8\n",
    "    )\n",
    "\n",
    "gbr.fit(X_train,y_train)\n",
    "y_pred_gbr=gbr.predict(X_test)\n",
    "print(\"gbr mse\",mean_squared_error(y_test,y_pred_gbr))\n",
    "print(\"gbr r2\",r2_score(y_test,y_pred_gbr))\n",
    "print(\"gbr rmse:\",np.sqrt(mean_squared_error(y_test,y_pred_gbr)))\n",
    "print(\"gbr mae:\",mean_absolute_error(y_test,y_pred_gbr))"
   ]
  },
  {
   "cell_type": "code",
   "execution_count": 25,
   "metadata": {},
   "outputs": [
    {
     "name": "stdout",
     "output_type": "stream",
     "text": [
      "xgb mse 27.866652391363523\n",
      "xgb r2 0.897037056285889\n",
      "xgb rmse: 5.2788874198417535\n",
      "xgb mae: 2.1457800967693785\n"
     ]
    }
   ],
   "source": [
    "from xgboost import XGBRegressor\n",
    "xgb = XGBRegressor(n_estimators=150,learning_rate=0.1,max_depth=10,min_child_weight=1,n_jobs=-1)\n",
    "xgb.fit(X_train, y_train)\n",
    "y_pred_xgb = xgb.predict(X_test)\n",
    "print(\"xgb mse\",mean_squared_error(y_test,y_pred_xgb))\n",
    "print(\"xgb r2\",r2_score(y_test,y_pred_xgb))\n",
    "print(\"xgb rmse:\",np.sqrt(mean_squared_error(y_test,y_pred_xgb)))\n",
    "print(\"xgb mae:\",mean_absolute_error(y_test,y_pred_xgb))\n"
   ]
  },
  {
   "cell_type": "code",
   "execution_count": 26,
   "metadata": {},
   "outputs": [
    {
     "name": "stdout",
     "output_type": "stream",
     "text": [
      "0:\tlearn: 17.5425688\ttotal: 268ms\tremaining: 53.4s\n",
      "1:\tlearn: 16.4392422\ttotal: 334ms\tremaining: 33s\n",
      "2:\tlearn: 15.4369582\ttotal: 384ms\tremaining: 25.2s\n",
      "3:\tlearn: 14.5233249\ttotal: 441ms\tremaining: 21.6s\n",
      "4:\tlearn: 13.7148092\ttotal: 497ms\tremaining: 19.4s\n",
      "5:\tlearn: 13.0142706\ttotal: 558ms\tremaining: 18.1s\n",
      "6:\tlearn: 12.4191670\ttotal: 626ms\tremaining: 17.2s\n",
      "7:\tlearn: 11.8227874\ttotal: 684ms\tremaining: 16.4s\n",
      "8:\tlearn: 11.3466253\ttotal: 753ms\tremaining: 16s\n",
      "9:\tlearn: 10.9042678\ttotal: 817ms\tremaining: 15.5s\n",
      "10:\tlearn: 10.4994381\ttotal: 873ms\tremaining: 15s\n",
      "11:\tlearn: 10.1066918\ttotal: 931ms\tremaining: 14.6s\n",
      "12:\tlearn: 9.7006432\ttotal: 990ms\tremaining: 14.2s\n",
      "13:\tlearn: 9.4210750\ttotal: 1.05s\tremaining: 14s\n",
      "14:\tlearn: 9.1270142\ttotal: 1.11s\tremaining: 13.7s\n",
      "15:\tlearn: 8.8206863\ttotal: 1.17s\tremaining: 13.5s\n",
      "16:\tlearn: 8.5970461\ttotal: 1.25s\tremaining: 13.5s\n",
      "17:\tlearn: 8.4081151\ttotal: 1.42s\tremaining: 14.4s\n",
      "18:\tlearn: 8.2394964\ttotal: 1.51s\tremaining: 14.4s\n",
      "19:\tlearn: 8.0760236\ttotal: 1.58s\tremaining: 14.2s\n",
      "20:\tlearn: 7.9057036\ttotal: 1.64s\tremaining: 14s\n",
      "21:\tlearn: 7.7522607\ttotal: 1.7s\tremaining: 13.7s\n",
      "22:\tlearn: 7.5827212\ttotal: 1.75s\tremaining: 13.5s\n",
      "23:\tlearn: 7.4299194\ttotal: 1.83s\tremaining: 13.4s\n",
      "24:\tlearn: 7.3458208\ttotal: 1.91s\tremaining: 13.4s\n",
      "25:\tlearn: 7.2208914\ttotal: 2s\tremaining: 13.4s\n",
      "26:\tlearn: 7.1391335\ttotal: 2.09s\tremaining: 13.4s\n",
      "27:\tlearn: 7.0600178\ttotal: 2.16s\tremaining: 13.3s\n",
      "28:\tlearn: 6.9584867\ttotal: 2.24s\tremaining: 13.2s\n",
      "29:\tlearn: 6.8900124\ttotal: 2.32s\tremaining: 13.2s\n",
      "30:\tlearn: 6.8134258\ttotal: 2.39s\tremaining: 13s\n",
      "31:\tlearn: 6.7379296\ttotal: 2.46s\tremaining: 12.9s\n",
      "32:\tlearn: 6.6887124\ttotal: 2.55s\tremaining: 12.9s\n",
      "33:\tlearn: 6.6380894\ttotal: 2.61s\tremaining: 12.7s\n",
      "34:\tlearn: 6.5692973\ttotal: 2.67s\tremaining: 12.6s\n",
      "35:\tlearn: 6.5050251\ttotal: 2.74s\tremaining: 12.5s\n",
      "36:\tlearn: 6.4620436\ttotal: 2.79s\tremaining: 12.3s\n",
      "37:\tlearn: 6.4206802\ttotal: 2.87s\tremaining: 12.2s\n",
      "38:\tlearn: 6.3844552\ttotal: 2.95s\tremaining: 12.2s\n",
      "39:\tlearn: 6.3292806\ttotal: 3.04s\tremaining: 12.2s\n",
      "40:\tlearn: 6.2884900\ttotal: 3.14s\tremaining: 12.2s\n",
      "41:\tlearn: 6.2200932\ttotal: 3.24s\tremaining: 12.2s\n",
      "42:\tlearn: 6.1576353\ttotal: 3.32s\tremaining: 12.1s\n",
      "43:\tlearn: 6.0662735\ttotal: 3.38s\tremaining: 12s\n",
      "44:\tlearn: 6.0202945\ttotal: 3.44s\tremaining: 11.9s\n",
      "45:\tlearn: 5.9871323\ttotal: 3.52s\tremaining: 11.8s\n",
      "46:\tlearn: 5.9553371\ttotal: 3.59s\tremaining: 11.7s\n",
      "47:\tlearn: 5.9069514\ttotal: 3.67s\tremaining: 11.6s\n",
      "48:\tlearn: 5.8703814\ttotal: 3.73s\tremaining: 11.5s\n",
      "49:\tlearn: 5.8483690\ttotal: 3.82s\tremaining: 11.4s\n",
      "50:\tlearn: 5.8172792\ttotal: 3.89s\tremaining: 11.4s\n",
      "51:\tlearn: 5.7856273\ttotal: 3.96s\tremaining: 11.3s\n",
      "52:\tlearn: 5.7691169\ttotal: 4.03s\tremaining: 11.2s\n",
      "53:\tlearn: 5.7525654\ttotal: 4.08s\tremaining: 11s\n",
      "54:\tlearn: 5.7278490\ttotal: 4.14s\tremaining: 10.9s\n",
      "55:\tlearn: 5.7037409\ttotal: 4.19s\tremaining: 10.8s\n",
      "56:\tlearn: 5.6770137\ttotal: 4.25s\tremaining: 10.7s\n",
      "57:\tlearn: 5.6576890\ttotal: 4.3s\tremaining: 10.5s\n",
      "58:\tlearn: 5.6255379\ttotal: 4.36s\tremaining: 10.4s\n",
      "59:\tlearn: 5.5875568\ttotal: 4.41s\tremaining: 10.3s\n",
      "60:\tlearn: 5.5667060\ttotal: 4.47s\tremaining: 10.2s\n",
      "61:\tlearn: 5.5341346\ttotal: 4.53s\tremaining: 10.1s\n",
      "62:\tlearn: 5.4875939\ttotal: 4.59s\tremaining: 9.97s\n",
      "63:\tlearn: 5.4406936\ttotal: 4.64s\tremaining: 9.86s\n",
      "64:\tlearn: 5.4235008\ttotal: 4.7s\tremaining: 9.76s\n",
      "65:\tlearn: 5.3775445\ttotal: 4.75s\tremaining: 9.64s\n",
      "66:\tlearn: 5.3580311\ttotal: 4.8s\tremaining: 9.53s\n",
      "67:\tlearn: 5.3338635\ttotal: 4.86s\tremaining: 9.44s\n",
      "68:\tlearn: 5.2976094\ttotal: 4.92s\tremaining: 9.35s\n",
      "69:\tlearn: 5.2631772\ttotal: 4.98s\tremaining: 9.25s\n",
      "70:\tlearn: 5.2347652\ttotal: 5.06s\tremaining: 9.19s\n",
      "71:\tlearn: 5.2014374\ttotal: 5.18s\tremaining: 9.2s\n",
      "72:\tlearn: 5.1850555\ttotal: 5.26s\tremaining: 9.15s\n",
      "73:\tlearn: 5.1629579\ttotal: 5.35s\tremaining: 9.1s\n",
      "74:\tlearn: 5.1415782\ttotal: 5.41s\tremaining: 9.01s\n",
      "75:\tlearn: 5.1128010\ttotal: 5.49s\tremaining: 8.95s\n",
      "76:\tlearn: 5.0940076\ttotal: 5.56s\tremaining: 8.88s\n",
      "77:\tlearn: 5.0755260\ttotal: 5.65s\tremaining: 8.83s\n",
      "78:\tlearn: 5.0439253\ttotal: 5.72s\tremaining: 8.77s\n",
      "79:\tlearn: 5.0316763\ttotal: 5.8s\tremaining: 8.71s\n",
      "80:\tlearn: 5.0137935\ttotal: 5.88s\tremaining: 8.64s\n",
      "81:\tlearn: 4.9853771\ttotal: 5.95s\tremaining: 8.56s\n",
      "82:\tlearn: 4.9670556\ttotal: 6.02s\tremaining: 8.49s\n",
      "83:\tlearn: 4.9404867\ttotal: 6.1s\tremaining: 8.42s\n",
      "84:\tlearn: 4.9046706\ttotal: 6.17s\tremaining: 8.35s\n",
      "85:\tlearn: 4.8869867\ttotal: 6.24s\tremaining: 8.27s\n",
      "86:\tlearn: 4.8691862\ttotal: 6.3s\tremaining: 8.19s\n",
      "87:\tlearn: 4.8559398\ttotal: 6.37s\tremaining: 8.11s\n",
      "88:\tlearn: 4.8340135\ttotal: 6.47s\tremaining: 8.07s\n",
      "89:\tlearn: 4.8154008\ttotal: 6.56s\tremaining: 8.02s\n",
      "90:\tlearn: 4.7969437\ttotal: 6.65s\tremaining: 7.96s\n",
      "91:\tlearn: 4.7789629\ttotal: 6.73s\tremaining: 7.9s\n",
      "92:\tlearn: 4.7508349\ttotal: 6.78s\tremaining: 7.8s\n",
      "93:\tlearn: 4.7286707\ttotal: 6.86s\tremaining: 7.74s\n",
      "94:\tlearn: 4.7182845\ttotal: 6.92s\tremaining: 7.64s\n",
      "95:\tlearn: 4.7036813\ttotal: 6.97s\tremaining: 7.55s\n",
      "96:\tlearn: 4.6641883\ttotal: 7.03s\tremaining: 7.46s\n",
      "97:\tlearn: 4.6517088\ttotal: 7.08s\tremaining: 7.37s\n",
      "98:\tlearn: 4.6206045\ttotal: 7.15s\tremaining: 7.3s\n",
      "99:\tlearn: 4.5997942\ttotal: 7.22s\tremaining: 7.22s\n",
      "100:\tlearn: 4.5877657\ttotal: 7.29s\tremaining: 7.14s\n",
      "101:\tlearn: 4.5705914\ttotal: 7.34s\tremaining: 7.06s\n",
      "102:\tlearn: 4.5548911\ttotal: 7.41s\tremaining: 6.98s\n",
      "103:\tlearn: 4.5398123\ttotal: 7.46s\tremaining: 6.89s\n",
      "104:\tlearn: 4.5306136\ttotal: 7.51s\tremaining: 6.8s\n",
      "105:\tlearn: 4.5096815\ttotal: 7.57s\tremaining: 6.71s\n",
      "106:\tlearn: 4.4884801\ttotal: 7.62s\tremaining: 6.63s\n",
      "107:\tlearn: 4.4732495\ttotal: 7.67s\tremaining: 6.54s\n",
      "108:\tlearn: 4.4606232\ttotal: 7.72s\tremaining: 6.45s\n",
      "109:\tlearn: 4.4437698\ttotal: 7.78s\tremaining: 6.37s\n",
      "110:\tlearn: 4.4286273\ttotal: 7.83s\tremaining: 6.28s\n",
      "111:\tlearn: 4.4105251\ttotal: 7.88s\tremaining: 6.19s\n",
      "112:\tlearn: 4.3934000\ttotal: 7.94s\tremaining: 6.11s\n",
      "113:\tlearn: 4.3785672\ttotal: 7.99s\tremaining: 6.03s\n",
      "114:\tlearn: 4.3714748\ttotal: 8.04s\tremaining: 5.95s\n",
      "115:\tlearn: 4.3613364\ttotal: 8.1s\tremaining: 5.86s\n",
      "116:\tlearn: 4.3451858\ttotal: 8.15s\tremaining: 5.78s\n",
      "117:\tlearn: 4.3258254\ttotal: 8.21s\tremaining: 5.7s\n",
      "118:\tlearn: 4.3077149\ttotal: 8.27s\tremaining: 5.63s\n",
      "119:\tlearn: 4.2945482\ttotal: 8.35s\tremaining: 5.57s\n",
      "120:\tlearn: 4.2854125\ttotal: 8.43s\tremaining: 5.5s\n",
      "121:\tlearn: 4.2721045\ttotal: 8.5s\tremaining: 5.43s\n",
      "122:\tlearn: 4.2523889\ttotal: 8.57s\tremaining: 5.37s\n",
      "123:\tlearn: 4.2382706\ttotal: 8.65s\tremaining: 5.3s\n",
      "124:\tlearn: 4.2260291\ttotal: 8.73s\tremaining: 5.24s\n",
      "125:\tlearn: 4.2197834\ttotal: 8.8s\tremaining: 5.17s\n",
      "126:\tlearn: 4.2075599\ttotal: 8.86s\tremaining: 5.09s\n",
      "127:\tlearn: 4.1950407\ttotal: 8.94s\tremaining: 5.03s\n",
      "128:\tlearn: 4.1827585\ttotal: 9.02s\tremaining: 4.96s\n",
      "129:\tlearn: 4.1647730\ttotal: 9.12s\tremaining: 4.91s\n",
      "130:\tlearn: 4.1529540\ttotal: 9.23s\tremaining: 4.86s\n",
      "131:\tlearn: 4.1434697\ttotal: 9.33s\tremaining: 4.8s\n",
      "132:\tlearn: 4.1364688\ttotal: 9.39s\tremaining: 4.73s\n",
      "133:\tlearn: 4.1179978\ttotal: 9.44s\tremaining: 4.65s\n",
      "134:\tlearn: 4.1123893\ttotal: 9.5s\tremaining: 4.57s\n",
      "135:\tlearn: 4.0950471\ttotal: 9.56s\tremaining: 4.5s\n",
      "136:\tlearn: 4.0766354\ttotal: 9.62s\tremaining: 4.42s\n",
      "137:\tlearn: 4.0528029\ttotal: 9.67s\tremaining: 4.34s\n",
      "138:\tlearn: 4.0432164\ttotal: 9.72s\tremaining: 4.27s\n",
      "139:\tlearn: 4.0324712\ttotal: 9.78s\tremaining: 4.19s\n",
      "140:\tlearn: 4.0177617\ttotal: 9.83s\tremaining: 4.11s\n",
      "141:\tlearn: 4.0047486\ttotal: 9.89s\tremaining: 4.04s\n",
      "142:\tlearn: 3.9913355\ttotal: 9.95s\tremaining: 3.97s\n",
      "143:\tlearn: 3.9766306\ttotal: 10s\tremaining: 3.89s\n",
      "144:\tlearn: 3.9627822\ttotal: 10.1s\tremaining: 3.82s\n",
      "145:\tlearn: 3.9461376\ttotal: 10.1s\tremaining: 3.74s\n",
      "146:\tlearn: 3.9331187\ttotal: 10.2s\tremaining: 3.67s\n",
      "147:\tlearn: 3.9190013\ttotal: 10.2s\tremaining: 3.59s\n",
      "148:\tlearn: 3.9064346\ttotal: 10.3s\tremaining: 3.52s\n",
      "149:\tlearn: 3.9013712\ttotal: 10.3s\tremaining: 3.45s\n",
      "150:\tlearn: 3.8885962\ttotal: 10.4s\tremaining: 3.37s\n",
      "151:\tlearn: 3.8685254\ttotal: 10.5s\tremaining: 3.3s\n",
      "152:\tlearn: 3.8553688\ttotal: 10.5s\tremaining: 3.23s\n",
      "153:\tlearn: 3.8420040\ttotal: 10.6s\tremaining: 3.15s\n",
      "154:\tlearn: 3.8256146\ttotal: 10.6s\tremaining: 3.08s\n",
      "155:\tlearn: 3.8140605\ttotal: 10.7s\tremaining: 3.01s\n",
      "156:\tlearn: 3.8074108\ttotal: 10.7s\tremaining: 2.94s\n",
      "157:\tlearn: 3.8030755\ttotal: 10.8s\tremaining: 2.87s\n",
      "158:\tlearn: 3.7904250\ttotal: 10.9s\tremaining: 2.8s\n",
      "159:\tlearn: 3.7799058\ttotal: 10.9s\tremaining: 2.73s\n",
      "160:\tlearn: 3.7705436\ttotal: 11s\tremaining: 2.65s\n",
      "161:\tlearn: 3.7584891\ttotal: 11s\tremaining: 2.58s\n",
      "162:\tlearn: 3.7464738\ttotal: 11.1s\tremaining: 2.51s\n",
      "163:\tlearn: 3.7317746\ttotal: 11.1s\tremaining: 2.44s\n",
      "164:\tlearn: 3.7179692\ttotal: 11.2s\tremaining: 2.37s\n",
      "165:\tlearn: 3.7072408\ttotal: 11.2s\tremaining: 2.3s\n",
      "166:\tlearn: 3.6985465\ttotal: 11.3s\tremaining: 2.23s\n",
      "167:\tlearn: 3.6883207\ttotal: 11.3s\tremaining: 2.16s\n",
      "168:\tlearn: 3.6776174\ttotal: 11.4s\tremaining: 2.09s\n",
      "169:\tlearn: 3.6707300\ttotal: 11.4s\tremaining: 2.02s\n",
      "170:\tlearn: 3.6594802\ttotal: 11.5s\tremaining: 1.96s\n",
      "171:\tlearn: 3.6498353\ttotal: 11.6s\tremaining: 1.89s\n",
      "172:\tlearn: 3.6436568\ttotal: 11.7s\tremaining: 1.82s\n",
      "173:\tlearn: 3.6312744\ttotal: 11.8s\tremaining: 1.76s\n",
      "174:\tlearn: 3.6263110\ttotal: 11.8s\tremaining: 1.69s\n",
      "175:\tlearn: 3.6158879\ttotal: 11.9s\tremaining: 1.62s\n",
      "176:\tlearn: 3.6049060\ttotal: 12s\tremaining: 1.56s\n",
      "177:\tlearn: 3.5959312\ttotal: 12.1s\tremaining: 1.49s\n",
      "178:\tlearn: 3.5845304\ttotal: 12.1s\tremaining: 1.42s\n",
      "179:\tlearn: 3.5768321\ttotal: 12.2s\tremaining: 1.36s\n",
      "180:\tlearn: 3.5666599\ttotal: 12.3s\tremaining: 1.29s\n",
      "181:\tlearn: 3.5562822\ttotal: 12.4s\tremaining: 1.22s\n",
      "182:\tlearn: 3.5488886\ttotal: 12.4s\tremaining: 1.15s\n",
      "183:\tlearn: 3.5394079\ttotal: 12.5s\tremaining: 1.08s\n",
      "184:\tlearn: 3.5294860\ttotal: 12.5s\tremaining: 1.01s\n",
      "185:\tlearn: 3.5218754\ttotal: 12.6s\tremaining: 947ms\n",
      "186:\tlearn: 3.5138620\ttotal: 12.6s\tremaining: 878ms\n",
      "187:\tlearn: 3.5008033\ttotal: 12.7s\tremaining: 809ms\n",
      "188:\tlearn: 3.4859799\ttotal: 12.7s\tremaining: 742ms\n",
      "189:\tlearn: 3.4796384\ttotal: 12.8s\tremaining: 676ms\n",
      "190:\tlearn: 3.4698776\ttotal: 12.9s\tremaining: 610ms\n",
      "191:\tlearn: 3.4621802\ttotal: 13s\tremaining: 543ms\n",
      "192:\tlearn: 3.4508390\ttotal: 13.1s\tremaining: 474ms\n",
      "193:\tlearn: 3.4378247\ttotal: 13.1s\tremaining: 406ms\n",
      "194:\tlearn: 3.4337063\ttotal: 13.2s\tremaining: 338ms\n",
      "195:\tlearn: 3.4254407\ttotal: 13.2s\tremaining: 270ms\n",
      "196:\tlearn: 3.4197715\ttotal: 13.3s\tremaining: 203ms\n",
      "197:\tlearn: 3.4087661\ttotal: 13.4s\tremaining: 135ms\n",
      "198:\tlearn: 3.4028085\ttotal: 13.5s\tremaining: 67.6ms\n",
      "199:\tlearn: 3.3944540\ttotal: 13.5s\tremaining: 0us\n",
      "cat mse 27.817545082257293\n",
      "cat r2 0.8972185001504926\n",
      "cat rmse: 5.274234075413917\n",
      "cat mae: 2.2945523916039186\n"
     ]
    }
   ],
   "source": [
    "from catboost import CatBoostRegressor\n",
    "catboost = CatBoostRegressor(iterations= 200,\n",
    "    learning_rate= 0.1,\n",
    "    depth= 10,\n",
    "    l2_leaf_reg= 1)\n",
    "catboost.fit(X_train, y_train)\n",
    "y_pred_cat = catboost.predict(X_test)\n",
    "print(\"cat mse\",mean_squared_error(y_test,y_pred_cat))\n",
    "print(\"cat r2\",r2_score(y_test,y_pred_cat))\n",
    "print(\"cat rmse:\",np.sqrt(mean_squared_error(y_test,y_pred_cat)))\n",
    "print(\"cat mae:\",mean_absolute_error(y_test,y_pred_cat))\n"
   ]
  },
  {
   "cell_type": "code",
   "execution_count": 8,
   "metadata": {},
   "outputs": [
    {
     "name": "stdout",
     "output_type": "stream",
     "text": [
      "rf mse 32.13669949226682\n",
      "rf r2 0.8812598967931625\n",
      "rf rmse: 5.668924015390118\n",
      "rf mae: 2.3091272153847933\n"
     ]
    }
   ],
   "source": [
    "from sklearn.ensemble import RandomForestRegressor\n",
    "\n",
    "rf_model = RandomForestRegressor(n_estimators=1200,random_state=42,n_jobs=-1)\n",
    "rf_model.fit(X_train, y_train)\n",
    "y_pred_rf = rf_model.predict(X_test)\n",
    "print(\"rf mse\",mean_squared_error(y_test,y_pred_rf))\n",
    "print(\"rf r2\",r2_score(y_test,y_pred_rf))\n",
    "print(\"rf rmse:\",np.sqrt(mean_squared_error(y_test,y_pred_rf)))\n",
    "print(\"rf mae:\",mean_absolute_error(y_test,y_pred_rf))\n",
    "\n",
    "\n"
   ]
  },
  {
   "cell_type": "code",
   "execution_count": 11,
   "metadata": {},
   "outputs": [
    {
     "name": "stdout",
     "output_type": "stream",
     "text": [
      "{'n_estimators': [200, 400, 600, 800, 1000, 1200, 1400, 1600, 1800, 2000], 'max_features': ['auto', 'log2', 'sqrt'], 'max_depth': [100, 200, 300, 400, 500, 600, 700, 800, 900, 1000], 'min_samples_split': [2, 5, 10, 14], 'min_samples_leaf': [1, 2, 4, 6, 8], 'criterion': ['squared_error', 'friedman_mse']}\n",
      "Fitting 3 folds for each of 100 candidates, totalling 300 fits\n"
     ]
    },
    {
     "ename": "KeyboardInterrupt",
     "evalue": "",
     "output_type": "error",
     "traceback": [
      "\u001b[1;31m---------------------------------------------------------------------------\u001b[0m",
      "\u001b[1;31mKeyboardInterrupt\u001b[0m                         Traceback (most recent call last)",
      "Cell \u001b[1;32mIn[11], line 13\u001b[0m\n\u001b[0;32m     11\u001b[0m rf\u001b[38;5;241m=\u001b[39mRandomForestRegressor()\n\u001b[0;32m     12\u001b[0m rf_random\u001b[38;5;241m=\u001b[39mRandomizedSearchCV(estimator\u001b[38;5;241m=\u001b[39mrf,param_distributions\u001b[38;5;241m=\u001b[39mrandom_grid,n_iter\u001b[38;5;241m=\u001b[39m\u001b[38;5;241m100\u001b[39m,cv\u001b[38;5;241m=\u001b[39m\u001b[38;5;241m3\u001b[39m,n_jobs\u001b[38;5;241m=\u001b[39m\u001b[38;5;241m-\u001b[39m\u001b[38;5;241m1\u001b[39m,random_state\u001b[38;5;241m=\u001b[39m\u001b[38;5;241m100\u001b[39m,verbose\u001b[38;5;241m=\u001b[39m\u001b[38;5;241m2\u001b[39m)\n\u001b[1;32m---> 13\u001b[0m \u001b[43mrf_random\u001b[49m\u001b[38;5;241;43m.\u001b[39;49m\u001b[43mfit\u001b[49m\u001b[43m(\u001b[49m\u001b[43mX_train\u001b[49m\u001b[43m,\u001b[49m\u001b[43my_train\u001b[49m\u001b[43m)\u001b[49m\n\u001b[0;32m     14\u001b[0m \u001b[38;5;28mprint\u001b[39m(rf_random\u001b[38;5;241m.\u001b[39mbest_params_)\n\u001b[0;32m     15\u001b[0m best_param_grid\u001b[38;5;241m=\u001b[39mrf_random\u001b[38;5;241m.\u001b[39mbest_estimator_\n",
      "File \u001b[1;32m~\\AppData\\Local\\Packages\\PythonSoftwareFoundation.Python.3.11_qbz5n2kfra8p0\\LocalCache\\local-packages\\Python311\\site-packages\\sklearn\\base.py:1151\u001b[0m, in \u001b[0;36m_fit_context.<locals>.decorator.<locals>.wrapper\u001b[1;34m(estimator, *args, **kwargs)\u001b[0m\n\u001b[0;32m   1144\u001b[0m     estimator\u001b[38;5;241m.\u001b[39m_validate_params()\n\u001b[0;32m   1146\u001b[0m \u001b[38;5;28;01mwith\u001b[39;00m config_context(\n\u001b[0;32m   1147\u001b[0m     skip_parameter_validation\u001b[38;5;241m=\u001b[39m(\n\u001b[0;32m   1148\u001b[0m         prefer_skip_nested_validation \u001b[38;5;129;01mor\u001b[39;00m global_skip_validation\n\u001b[0;32m   1149\u001b[0m     )\n\u001b[0;32m   1150\u001b[0m ):\n\u001b[1;32m-> 1151\u001b[0m     \u001b[38;5;28;01mreturn\u001b[39;00m \u001b[43mfit_method\u001b[49m\u001b[43m(\u001b[49m\u001b[43mestimator\u001b[49m\u001b[43m,\u001b[49m\u001b[43m \u001b[49m\u001b[38;5;241;43m*\u001b[39;49m\u001b[43margs\u001b[49m\u001b[43m,\u001b[49m\u001b[43m \u001b[49m\u001b[38;5;241;43m*\u001b[39;49m\u001b[38;5;241;43m*\u001b[39;49m\u001b[43mkwargs\u001b[49m\u001b[43m)\u001b[49m\n",
      "File \u001b[1;32m~\\AppData\\Local\\Packages\\PythonSoftwareFoundation.Python.3.11_qbz5n2kfra8p0\\LocalCache\\local-packages\\Python311\\site-packages\\sklearn\\model_selection\\_search.py:898\u001b[0m, in \u001b[0;36mBaseSearchCV.fit\u001b[1;34m(self, X, y, groups, **fit_params)\u001b[0m\n\u001b[0;32m    892\u001b[0m     results \u001b[38;5;241m=\u001b[39m \u001b[38;5;28mself\u001b[39m\u001b[38;5;241m.\u001b[39m_format_results(\n\u001b[0;32m    893\u001b[0m         all_candidate_params, n_splits, all_out, all_more_results\n\u001b[0;32m    894\u001b[0m     )\n\u001b[0;32m    896\u001b[0m     \u001b[38;5;28;01mreturn\u001b[39;00m results\n\u001b[1;32m--> 898\u001b[0m \u001b[38;5;28;43mself\u001b[39;49m\u001b[38;5;241;43m.\u001b[39;49m\u001b[43m_run_search\u001b[49m\u001b[43m(\u001b[49m\u001b[43mevaluate_candidates\u001b[49m\u001b[43m)\u001b[49m\n\u001b[0;32m    900\u001b[0m \u001b[38;5;66;03m# multimetric is determined here because in the case of a callable\u001b[39;00m\n\u001b[0;32m    901\u001b[0m \u001b[38;5;66;03m# self.scoring the return type is only known after calling\u001b[39;00m\n\u001b[0;32m    902\u001b[0m first_test_score \u001b[38;5;241m=\u001b[39m all_out[\u001b[38;5;241m0\u001b[39m][\u001b[38;5;124m\"\u001b[39m\u001b[38;5;124mtest_scores\u001b[39m\u001b[38;5;124m\"\u001b[39m]\n",
      "File \u001b[1;32m~\\AppData\\Local\\Packages\\PythonSoftwareFoundation.Python.3.11_qbz5n2kfra8p0\\LocalCache\\local-packages\\Python311\\site-packages\\sklearn\\model_selection\\_search.py:1806\u001b[0m, in \u001b[0;36mRandomizedSearchCV._run_search\u001b[1;34m(self, evaluate_candidates)\u001b[0m\n\u001b[0;32m   1804\u001b[0m \u001b[38;5;28;01mdef\u001b[39;00m \u001b[38;5;21m_run_search\u001b[39m(\u001b[38;5;28mself\u001b[39m, evaluate_candidates):\n\u001b[0;32m   1805\u001b[0m \u001b[38;5;250m    \u001b[39m\u001b[38;5;124;03m\"\"\"Search n_iter candidates from param_distributions\"\"\"\u001b[39;00m\n\u001b[1;32m-> 1806\u001b[0m     \u001b[43mevaluate_candidates\u001b[49m\u001b[43m(\u001b[49m\n\u001b[0;32m   1807\u001b[0m \u001b[43m        \u001b[49m\u001b[43mParameterSampler\u001b[49m\u001b[43m(\u001b[49m\n\u001b[0;32m   1808\u001b[0m \u001b[43m            \u001b[49m\u001b[38;5;28;43mself\u001b[39;49m\u001b[38;5;241;43m.\u001b[39;49m\u001b[43mparam_distributions\u001b[49m\u001b[43m,\u001b[49m\u001b[43m \u001b[49m\u001b[38;5;28;43mself\u001b[39;49m\u001b[38;5;241;43m.\u001b[39;49m\u001b[43mn_iter\u001b[49m\u001b[43m,\u001b[49m\u001b[43m \u001b[49m\u001b[43mrandom_state\u001b[49m\u001b[38;5;241;43m=\u001b[39;49m\u001b[38;5;28;43mself\u001b[39;49m\u001b[38;5;241;43m.\u001b[39;49m\u001b[43mrandom_state\u001b[49m\n\u001b[0;32m   1809\u001b[0m \u001b[43m        \u001b[49m\u001b[43m)\u001b[49m\n\u001b[0;32m   1810\u001b[0m \u001b[43m    \u001b[49m\u001b[43m)\u001b[49m\n",
      "File \u001b[1;32m~\\AppData\\Local\\Packages\\PythonSoftwareFoundation.Python.3.11_qbz5n2kfra8p0\\LocalCache\\local-packages\\Python311\\site-packages\\sklearn\\model_selection\\_search.py:845\u001b[0m, in \u001b[0;36mBaseSearchCV.fit.<locals>.evaluate_candidates\u001b[1;34m(candidate_params, cv, more_results)\u001b[0m\n\u001b[0;32m    837\u001b[0m \u001b[38;5;28;01mif\u001b[39;00m \u001b[38;5;28mself\u001b[39m\u001b[38;5;241m.\u001b[39mverbose \u001b[38;5;241m>\u001b[39m \u001b[38;5;241m0\u001b[39m:\n\u001b[0;32m    838\u001b[0m     \u001b[38;5;28mprint\u001b[39m(\n\u001b[0;32m    839\u001b[0m         \u001b[38;5;124m\"\u001b[39m\u001b[38;5;124mFitting \u001b[39m\u001b[38;5;132;01m{0}\u001b[39;00m\u001b[38;5;124m folds for each of \u001b[39m\u001b[38;5;132;01m{1}\u001b[39;00m\u001b[38;5;124m candidates,\u001b[39m\u001b[38;5;124m\"\u001b[39m\n\u001b[0;32m    840\u001b[0m         \u001b[38;5;124m\"\u001b[39m\u001b[38;5;124m totalling \u001b[39m\u001b[38;5;132;01m{2}\u001b[39;00m\u001b[38;5;124m fits\u001b[39m\u001b[38;5;124m\"\u001b[39m\u001b[38;5;241m.\u001b[39mformat(\n\u001b[0;32m    841\u001b[0m             n_splits, n_candidates, n_candidates \u001b[38;5;241m*\u001b[39m n_splits\n\u001b[0;32m    842\u001b[0m         )\n\u001b[0;32m    843\u001b[0m     )\n\u001b[1;32m--> 845\u001b[0m out \u001b[38;5;241m=\u001b[39m \u001b[43mparallel\u001b[49m\u001b[43m(\u001b[49m\n\u001b[0;32m    846\u001b[0m \u001b[43m    \u001b[49m\u001b[43mdelayed\u001b[49m\u001b[43m(\u001b[49m\u001b[43m_fit_and_score\u001b[49m\u001b[43m)\u001b[49m\u001b[43m(\u001b[49m\n\u001b[0;32m    847\u001b[0m \u001b[43m        \u001b[49m\u001b[43mclone\u001b[49m\u001b[43m(\u001b[49m\u001b[43mbase_estimator\u001b[49m\u001b[43m)\u001b[49m\u001b[43m,\u001b[49m\n\u001b[0;32m    848\u001b[0m \u001b[43m        \u001b[49m\u001b[43mX\u001b[49m\u001b[43m,\u001b[49m\n\u001b[0;32m    849\u001b[0m \u001b[43m        \u001b[49m\u001b[43my\u001b[49m\u001b[43m,\u001b[49m\n\u001b[0;32m    850\u001b[0m \u001b[43m        \u001b[49m\u001b[43mtrain\u001b[49m\u001b[38;5;241;43m=\u001b[39;49m\u001b[43mtrain\u001b[49m\u001b[43m,\u001b[49m\n\u001b[0;32m    851\u001b[0m \u001b[43m        \u001b[49m\u001b[43mtest\u001b[49m\u001b[38;5;241;43m=\u001b[39;49m\u001b[43mtest\u001b[49m\u001b[43m,\u001b[49m\n\u001b[0;32m    852\u001b[0m \u001b[43m        \u001b[49m\u001b[43mparameters\u001b[49m\u001b[38;5;241;43m=\u001b[39;49m\u001b[43mparameters\u001b[49m\u001b[43m,\u001b[49m\n\u001b[0;32m    853\u001b[0m \u001b[43m        \u001b[49m\u001b[43msplit_progress\u001b[49m\u001b[38;5;241;43m=\u001b[39;49m\u001b[43m(\u001b[49m\u001b[43msplit_idx\u001b[49m\u001b[43m,\u001b[49m\u001b[43m \u001b[49m\u001b[43mn_splits\u001b[49m\u001b[43m)\u001b[49m\u001b[43m,\u001b[49m\n\u001b[0;32m    854\u001b[0m \u001b[43m        \u001b[49m\u001b[43mcandidate_progress\u001b[49m\u001b[38;5;241;43m=\u001b[39;49m\u001b[43m(\u001b[49m\u001b[43mcand_idx\u001b[49m\u001b[43m,\u001b[49m\u001b[43m \u001b[49m\u001b[43mn_candidates\u001b[49m\u001b[43m)\u001b[49m\u001b[43m,\u001b[49m\n\u001b[0;32m    855\u001b[0m \u001b[43m        \u001b[49m\u001b[38;5;241;43m*\u001b[39;49m\u001b[38;5;241;43m*\u001b[39;49m\u001b[43mfit_and_score_kwargs\u001b[49m\u001b[43m,\u001b[49m\n\u001b[0;32m    856\u001b[0m \u001b[43m    \u001b[49m\u001b[43m)\u001b[49m\n\u001b[0;32m    857\u001b[0m \u001b[43m    \u001b[49m\u001b[38;5;28;43;01mfor\u001b[39;49;00m\u001b[43m \u001b[49m\u001b[43m(\u001b[49m\u001b[43mcand_idx\u001b[49m\u001b[43m,\u001b[49m\u001b[43m \u001b[49m\u001b[43mparameters\u001b[49m\u001b[43m)\u001b[49m\u001b[43m,\u001b[49m\u001b[43m \u001b[49m\u001b[43m(\u001b[49m\u001b[43msplit_idx\u001b[49m\u001b[43m,\u001b[49m\u001b[43m \u001b[49m\u001b[43m(\u001b[49m\u001b[43mtrain\u001b[49m\u001b[43m,\u001b[49m\u001b[43m \u001b[49m\u001b[43mtest\u001b[49m\u001b[43m)\u001b[49m\u001b[43m)\u001b[49m\u001b[43m \u001b[49m\u001b[38;5;129;43;01min\u001b[39;49;00m\u001b[43m \u001b[49m\u001b[43mproduct\u001b[49m\u001b[43m(\u001b[49m\n\u001b[0;32m    858\u001b[0m \u001b[43m        \u001b[49m\u001b[38;5;28;43menumerate\u001b[39;49m\u001b[43m(\u001b[49m\u001b[43mcandidate_params\u001b[49m\u001b[43m)\u001b[49m\u001b[43m,\u001b[49m\u001b[43m \u001b[49m\u001b[38;5;28;43menumerate\u001b[39;49m\u001b[43m(\u001b[49m\u001b[43mcv\u001b[49m\u001b[38;5;241;43m.\u001b[39;49m\u001b[43msplit\u001b[49m\u001b[43m(\u001b[49m\u001b[43mX\u001b[49m\u001b[43m,\u001b[49m\u001b[43m \u001b[49m\u001b[43my\u001b[49m\u001b[43m,\u001b[49m\u001b[43m \u001b[49m\u001b[43mgroups\u001b[49m\u001b[43m)\u001b[49m\u001b[43m)\u001b[49m\n\u001b[0;32m    859\u001b[0m \u001b[43m    \u001b[49m\u001b[43m)\u001b[49m\n\u001b[0;32m    860\u001b[0m \u001b[43m\u001b[49m\u001b[43m)\u001b[49m\n\u001b[0;32m    862\u001b[0m \u001b[38;5;28;01mif\u001b[39;00m \u001b[38;5;28mlen\u001b[39m(out) \u001b[38;5;241m<\u001b[39m \u001b[38;5;241m1\u001b[39m:\n\u001b[0;32m    863\u001b[0m     \u001b[38;5;28;01mraise\u001b[39;00m \u001b[38;5;167;01mValueError\u001b[39;00m(\n\u001b[0;32m    864\u001b[0m         \u001b[38;5;124m\"\u001b[39m\u001b[38;5;124mNo fits were performed. \u001b[39m\u001b[38;5;124m\"\u001b[39m\n\u001b[0;32m    865\u001b[0m         \u001b[38;5;124m\"\u001b[39m\u001b[38;5;124mWas the CV iterator empty? \u001b[39m\u001b[38;5;124m\"\u001b[39m\n\u001b[0;32m    866\u001b[0m         \u001b[38;5;124m\"\u001b[39m\u001b[38;5;124mWere there no candidates?\u001b[39m\u001b[38;5;124m\"\u001b[39m\n\u001b[0;32m    867\u001b[0m     )\n",
      "File \u001b[1;32m~\\AppData\\Local\\Packages\\PythonSoftwareFoundation.Python.3.11_qbz5n2kfra8p0\\LocalCache\\local-packages\\Python311\\site-packages\\sklearn\\utils\\parallel.py:65\u001b[0m, in \u001b[0;36mParallel.__call__\u001b[1;34m(self, iterable)\u001b[0m\n\u001b[0;32m     60\u001b[0m config \u001b[38;5;241m=\u001b[39m get_config()\n\u001b[0;32m     61\u001b[0m iterable_with_config \u001b[38;5;241m=\u001b[39m (\n\u001b[0;32m     62\u001b[0m     (_with_config(delayed_func, config), args, kwargs)\n\u001b[0;32m     63\u001b[0m     \u001b[38;5;28;01mfor\u001b[39;00m delayed_func, args, kwargs \u001b[38;5;129;01min\u001b[39;00m iterable\n\u001b[0;32m     64\u001b[0m )\n\u001b[1;32m---> 65\u001b[0m \u001b[38;5;28;01mreturn\u001b[39;00m \u001b[38;5;28;43msuper\u001b[39;49m\u001b[43m(\u001b[49m\u001b[43m)\u001b[49m\u001b[38;5;241;43m.\u001b[39;49m\u001b[38;5;21;43m__call__\u001b[39;49m\u001b[43m(\u001b[49m\u001b[43miterable_with_config\u001b[49m\u001b[43m)\u001b[49m\n",
      "File \u001b[1;32m~\\AppData\\Local\\Packages\\PythonSoftwareFoundation.Python.3.11_qbz5n2kfra8p0\\LocalCache\\local-packages\\Python311\\site-packages\\joblib\\parallel.py:1952\u001b[0m, in \u001b[0;36mParallel.__call__\u001b[1;34m(self, iterable)\u001b[0m\n\u001b[0;32m   1946\u001b[0m \u001b[38;5;66;03m# The first item from the output is blank, but it makes the interpreter\u001b[39;00m\n\u001b[0;32m   1947\u001b[0m \u001b[38;5;66;03m# progress until it enters the Try/Except block of the generator and\u001b[39;00m\n\u001b[0;32m   1948\u001b[0m \u001b[38;5;66;03m# reach the first `yield` statement. This starts the aynchronous\u001b[39;00m\n\u001b[0;32m   1949\u001b[0m \u001b[38;5;66;03m# dispatch of the tasks to the workers.\u001b[39;00m\n\u001b[0;32m   1950\u001b[0m \u001b[38;5;28mnext\u001b[39m(output)\n\u001b[1;32m-> 1952\u001b[0m \u001b[38;5;28;01mreturn\u001b[39;00m output \u001b[38;5;28;01mif\u001b[39;00m \u001b[38;5;28mself\u001b[39m\u001b[38;5;241m.\u001b[39mreturn_generator \u001b[38;5;28;01melse\u001b[39;00m \u001b[38;5;28;43mlist\u001b[39;49m\u001b[43m(\u001b[49m\u001b[43moutput\u001b[49m\u001b[43m)\u001b[49m\n",
      "File \u001b[1;32m~\\AppData\\Local\\Packages\\PythonSoftwareFoundation.Python.3.11_qbz5n2kfra8p0\\LocalCache\\local-packages\\Python311\\site-packages\\joblib\\parallel.py:1595\u001b[0m, in \u001b[0;36mParallel._get_outputs\u001b[1;34m(self, iterator, pre_dispatch)\u001b[0m\n\u001b[0;32m   1592\u001b[0m     \u001b[38;5;28;01myield\u001b[39;00m\n\u001b[0;32m   1594\u001b[0m     \u001b[38;5;28;01mwith\u001b[39;00m \u001b[38;5;28mself\u001b[39m\u001b[38;5;241m.\u001b[39m_backend\u001b[38;5;241m.\u001b[39mretrieval_context():\n\u001b[1;32m-> 1595\u001b[0m         \u001b[38;5;28;01myield from\u001b[39;00m \u001b[38;5;28mself\u001b[39m\u001b[38;5;241m.\u001b[39m_retrieve()\n\u001b[0;32m   1597\u001b[0m \u001b[38;5;28;01mexcept\u001b[39;00m \u001b[38;5;167;01mGeneratorExit\u001b[39;00m:\n\u001b[0;32m   1598\u001b[0m     \u001b[38;5;66;03m# The generator has been garbage collected before being fully\u001b[39;00m\n\u001b[0;32m   1599\u001b[0m     \u001b[38;5;66;03m# consumed. This aborts the remaining tasks if possible and warn\u001b[39;00m\n\u001b[0;32m   1600\u001b[0m     \u001b[38;5;66;03m# the user if necessary.\u001b[39;00m\n\u001b[0;32m   1601\u001b[0m     \u001b[38;5;28mself\u001b[39m\u001b[38;5;241m.\u001b[39m_exception \u001b[38;5;241m=\u001b[39m \u001b[38;5;28;01mTrue\u001b[39;00m\n",
      "File \u001b[1;32m~\\AppData\\Local\\Packages\\PythonSoftwareFoundation.Python.3.11_qbz5n2kfra8p0\\LocalCache\\local-packages\\Python311\\site-packages\\joblib\\parallel.py:1707\u001b[0m, in \u001b[0;36mParallel._retrieve\u001b[1;34m(self)\u001b[0m\n\u001b[0;32m   1702\u001b[0m \u001b[38;5;66;03m# If the next job is not ready for retrieval yet, we just wait for\u001b[39;00m\n\u001b[0;32m   1703\u001b[0m \u001b[38;5;66;03m# async callbacks to progress.\u001b[39;00m\n\u001b[0;32m   1704\u001b[0m \u001b[38;5;28;01mif\u001b[39;00m ((\u001b[38;5;28mlen\u001b[39m(\u001b[38;5;28mself\u001b[39m\u001b[38;5;241m.\u001b[39m_jobs) \u001b[38;5;241m==\u001b[39m \u001b[38;5;241m0\u001b[39m) \u001b[38;5;129;01mor\u001b[39;00m\n\u001b[0;32m   1705\u001b[0m     (\u001b[38;5;28mself\u001b[39m\u001b[38;5;241m.\u001b[39m_jobs[\u001b[38;5;241m0\u001b[39m]\u001b[38;5;241m.\u001b[39mget_status(\n\u001b[0;32m   1706\u001b[0m         timeout\u001b[38;5;241m=\u001b[39m\u001b[38;5;28mself\u001b[39m\u001b[38;5;241m.\u001b[39mtimeout) \u001b[38;5;241m==\u001b[39m TASK_PENDING)):\n\u001b[1;32m-> 1707\u001b[0m     time\u001b[38;5;241m.\u001b[39msleep(\u001b[38;5;241m0.01\u001b[39m)\n\u001b[0;32m   1708\u001b[0m     \u001b[38;5;28;01mcontinue\u001b[39;00m\n\u001b[0;32m   1710\u001b[0m \u001b[38;5;66;03m# We need to be careful: the job list can be filling up as\u001b[39;00m\n\u001b[0;32m   1711\u001b[0m \u001b[38;5;66;03m# we empty it and Python list are not thread-safe by\u001b[39;00m\n\u001b[0;32m   1712\u001b[0m \u001b[38;5;66;03m# default hence the use of the lock\u001b[39;00m\n",
      "\u001b[1;31mKeyboardInterrupt\u001b[0m: "
     ]
    }
   ],
   "source": [
    "from sklearn.model_selection import RandomizedSearchCV\n",
    "n_estimators=[int(x) for x in np.linspace(start=200,stop=2000,num=10)]\n",
    "max_features=['auto','log2','sqrt']\n",
    "max_depth=[int(x) for x in np.linspace(100,1000,10)]\n",
    "min_samples_split=[2,5,10,14]\n",
    "min_samples_leaf=[1,2,4,6,8]\n",
    "random_grid={'n_estimators':n_estimators,\n",
    "             'max_features':max_features,'max_depth':max_depth,\n",
    "             'min_samples_split':min_samples_split,'min_samples_leaf':min_samples_leaf,'criterion':['squared_error', 'friedman_mse']}\n",
    "print(random_grid)\n",
    "rf=RandomForestRegressor()\n",
    "rf_random=RandomizedSearchCV(estimator=rf,param_distributions=random_grid,n_iter=100,cv=3,n_jobs=-1,random_state=100,verbose=2)\n",
    "rf_random.fit(X_train,y_train)\n",
    "print(rf_random.best_params_)\n",
    "best_param_grid=rf_random.best_estimator_\n",
    "y_predd=best_param_grid.predict(X_test)\n",
    "print(\"rf(random) r2\",r2_score(y_test,y_predd))\n",
    "print(\"rf(random) rmse:\",np.sqrt(mean_squared_error(y_test,y_predd)))\n",
    "print(\"rf(random) mae:\",mean_absolute_error(y_test,y_predd))\n",
    "print(\"rf(random) mse\",mean_squared_error(y_test,y_predd))\n",
    "\n"
   ]
  },
  {
   "cell_type": "code",
   "execution_count": null,
   "metadata": {},
   "outputs": [],
   "source": [
    "from sklearn.model_selection import GridSearchCV\n",
    "param_grid={'criterion':[rf_random.best_params_['criterion']],\n",
    "            'max_depth':[rf_random.best_params_['max_depth']],\n",
    "            'max_features':[rf_random.best_params_['max_features']],\n",
    "             'min_samples_split':[rf_random.best_params_['min_samples_split'],\n",
    "                                  rf_random.best_params_['min_samples_split']+2,\n",
    "                                  rf_random.best_params_['min_samples_split']+4]\n",
    "            ,'min_samples_leaf':[rf_random.best_params_['min_samples_leaf']-2,\n",
    "                                 rf_random.best_params_['min_samples_leaf']-1,\n",
    "                                 rf_random.best_params_['min_samples_leaf'],\n",
    "                                 rf_random.best_params_['min_samples_leaf']+1,\n",
    "                                 rf_random.best_params_['min_samples_leaf']+2],\n",
    "            'n_estimators':[rf_random.best_params_['n_estimators']-200,\n",
    "                            rf_random.best_params_['n_estimators'],\n",
    "                            rf_random.best_params_['n_estimators']+100]}\n",
    "print(param_grid)\n",
    "rf1=RandomForestRegressor()\n",
    "rf_random1=GridSearchCV(estimator=rf,param_grid=param_grid,cv=10,n_jobs=-1,verbose=2)\n",
    "rf_random1.fit(X_train,y_train)\n",
    "print(rf_random1.best_params_)\n",
    "y_pred_grid=best_param_grid.predict(X_test)\n",
    "print(\"rf(grid) r2\",r2_score(y_test,y_pred_grid))\n",
    "print(\"rf(grid) rmse:\",np.sqrt(mean_squared_error(y_test,y_pred_grid)))\n",
    "print(\"rf(grid) mae:\",mean_absolute_error(y_test,y_pred_grid))\n",
    "print(\"rf(grid) mse\",mean_squared_error(y_test,y_pred_grid))\n",
    "\n"
   ]
  }
 ],
 "metadata": {
  "kernelspec": {
   "display_name": "Python 3",
   "language": "python",
   "name": "python3"
  },
  "language_info": {
   "codemirror_mode": {
    "name": "ipython",
    "version": 3
   },
   "file_extension": ".py",
   "mimetype": "text/x-python",
   "name": "python",
   "nbconvert_exporter": "python",
   "pygments_lexer": "ipython3",
   "version": "3.11.9"
  }
 },
 "nbformat": 4,
 "nbformat_minor": 2
}
